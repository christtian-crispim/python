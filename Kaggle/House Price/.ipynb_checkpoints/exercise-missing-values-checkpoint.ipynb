{
 "cells": [
  {
   "cell_type": "markdown",
   "metadata": {},
   "source": [
    "**[Intermediate Machine Learning Home Page](https://www.kaggle.com/learn/intermediate-machine-learning)**\n",
    "\n",
    "---\n"
   ]
  },
  {
   "cell_type": "markdown",
   "metadata": {},
   "source": [
    "Now it's your turn to test your new knowledge of **missing values** handling. You'll probably find it makes a big difference.\n",
    "\n",
    "# Setup\n",
    "\n",
    "The questions will give you feedback on your work. Run the following cell to set up the feedback system."
   ]
  },
  {
   "cell_type": "code",
   "execution_count": 1,
   "metadata": {},
   "outputs": [],
   "source": [
    "from os import listdir\n",
    "from os.path import isfile, join\n",
    "\n",
    "working_path = \"c:/code/python/kaggle/House Price/\""
   ]
  },
  {
   "cell_type": "markdown",
   "metadata": {},
   "source": [
    "In this exercise, you will work with data from the [Housing Prices Competition for Kaggle Learn Users](https://www.kaggle.com/c/home-data-for-ml-course). \n",
    "\n",
    "![Ames Housing dataset image](https://i.imgur.com/lTJVG4e.png)\n",
    "\n",
    "Run the next code cell without changes to load the training and validation sets in `X_train`, `X_valid`, `y_train`, and `y_valid`.  The test set is loaded in `X_test`."
   ]
  },
  {
   "cell_type": "code",
   "execution_count": 5,
   "metadata": {},
   "outputs": [],
   "source": [
    "import pandas as pd\n",
    "from sklearn.model_selection import train_test_split\n",
    "\n",
    "# Read the data\n",
    "X_full = pd.read_csv(working_path + 'input/train.csv', index_col='Id')\n",
    "X_test_full = pd.read_csv(working_path + 'input/test.csv', index_col='Id')\n",
    "\n",
    "# Remove rows with missing target, separate target from predictors\n",
    "X_full.dropna(axis=0, subset=['SalePrice'], inplace=True)\n",
    "y = X_full.SalePrice\n",
    "X_full.drop(['SalePrice'], axis=1, inplace=True)\n",
    "\n",
    "# To keep things simple, we'll use only numerical predictors\n",
    "# X = X_full.select_dtypes(exclude=['object'])\n",
    "# X_test = X_test_full.select_dtypes(exclude=['object'])\n",
    "X = X_full\n",
    "X_test = X_test_full\n",
    "\n",
    "# Break off validation set from training data\n",
    "X_train, X_valid, y_train, y_valid = train_test_split(X, y, train_size=0.8, test_size=0.2,\n",
    "                                                      random_state=0)"
   ]
  },
  {
   "cell_type": "markdown",
   "metadata": {},
   "source": [
    "Use the next code cell to print the first five rows of the data."
   ]
  },
  {
   "cell_type": "code",
   "execution_count": null,
   "metadata": {},
   "outputs": [],
   "source": [
    "# Shape of training data (num_rows, num_columns)\n",
    "X_test.head()"
   ]
  },
  {
   "cell_type": "markdown",
   "metadata": {},
   "source": [
    "# Step 1: Preliminary investigation"
   ]
  },
  {
   "cell_type": "code",
   "execution_count": null,
   "metadata": {},
   "outputs": [],
   "source": [
    "# Shape of training data (num_rows, num_columns)\n",
    "print(X_train.shape)\n",
    "\n",
    "# Number of missing values in each column of training data\n",
    "missing_val_count_by_column = (X_train.isnull().sum())\n",
    "print(missing_val_count_by_column[missing_val_count_by_column > 0])"
   ]
  },
  {
   "cell_type": "markdown",
   "metadata": {},
   "source": [
    "# Prepare the data\n",
    "\n",
    "## Step 1 - Label enconding"
   ]
  },
  {
   "cell_type": "code",
   "execution_count": 3,
   "metadata": {},
   "outputs": [],
   "source": [
    "def label_enconding(df):\n",
    "    # Label Encoding // CATEGORIES TO NUMBER\n",
    "    df.Alley.fillna(value=0, inplace=True)\n",
    "    df.BsmtQual.fillna(value=0, inplace=True)\n",
    "    df.BsmtCond.fillna(value=0, inplace=True)\n",
    "    df.BsmtExposure.fillna(value=0, inplace=True)\n",
    "    df.BsmtFinType1.fillna(value=0, inplace=True)\n",
    "    df.BsmtFinType2.fillna(value=0, inplace=True)\n",
    "    df.FireplaceQu.fillna(value=0, inplace=True)\n",
    "    df.GarageFinish.fillna(value=0, inplace=True)\n",
    "    df.GarageQual.fillna(value=0, inplace=True)\n",
    "    df.PoolQC.fillna(value=0, inplace=True)\n",
    "\n",
    "    cleanup_nums = {\"Alley\":        {\"Grvl\": 1, \"Pave\": 2},\n",
    "                    \"BsmtQual\":     {\"Ex\":5,\"Gd\": 4,\"TA\":3,\"Fa\": 2,\"Po\":1},\n",
    "                    \"BsmtCond\":     {\"Ex\":5,\"Gd\": 4,\"TA\":3,\"Fa\": 2,\"Po\":1},\n",
    "                    \"BsmtExposure\": {\"Gd\": 4, \"Av\": 3, \"Mn\": 2, \"No\": 1},\n",
    "                    \"BsmtFinType1\": {\"GLQ\": 6,\"ALQ\": 5,\"BLQ\": 4,\"Rec\": 3,\"LwQ\": 2,\"Unf\": 1},\n",
    "                    \"BsmtFinType2\": {\"GLQ\": 6,\"ALQ\": 5,\"BLQ\": 4,\"Rec\": 3,\"LwQ\": 2,\"Unf\": 1},\n",
    "                    \"FireplaceQu\":  {\"Ex\":5,\"Gd\":4,\"TA\":3,\"Fa\":2,\"Po\":1},\n",
    "                    \"GarageFinish\": {\"Fin\":3,\"RFn\":2,\"Unf\":1},\n",
    "                    \"GarageQual\":   {\"Ex\":5,\"Gd\":4,\"TA\":3,\"Fa\":2,\"Po\":1 },\n",
    "                    \"PoolQC\":       {\"Ex\":4,\"Gd\":3,\"TA\":2,\"Fa\":1}\n",
    "                   }\n",
    "\n",
    "    df.replace(cleanup_nums, inplace=True)\n",
    "    return df"
   ]
  },
  {
   "cell_type": "code",
   "execution_count": 6,
   "metadata": {},
   "outputs": [],
   "source": [
    "# Label Encoding // CATEGORIES TO NUMBER\n",
    "X_train = label_enconding(X_train.copy())\n",
    "X_valid = label_enconding(X_valid.copy())"
   ]
  },
  {
   "cell_type": "markdown",
   "metadata": {},
   "source": [
    "## Step 2 - Drop columns with missing values (will not be treated)"
   ]
  },
  {
   "cell_type": "code",
   "execution_count": 7,
   "metadata": {},
   "outputs": [],
   "source": [
    "# Drop columns in training and validation data\n",
    "cols_to_drop = ['GarageYrBlt', 'GarageCond','Fence']\n",
    "\n",
    "X_train.drop(cols_to_drop, axis=1, inplace=True)\n",
    "X_valid.drop(cols_to_drop, axis=1, inplace=True)"
   ]
  },
  {
   "cell_type": "markdown",
   "metadata": {},
   "source": [
    "## Step 3 - One Hot Encoding"
   ]
  },
  {
   "cell_type": "code",
   "execution_count": 8,
   "metadata": {},
   "outputs": [],
   "source": [
    "def one_hot_encoding(df):\n",
    "    # Electrical\n",
    "    index = 6\n",
    "    columns = ['Electrical_SBrkr', 'Electrical_FuseA', 'Electrical_FuseF', 'Electrical_FuseP', 'Electrical_Mix', 'Electrical_Null']\n",
    "    df_electrical = pd.DataFrame(columns=columns)\n",
    "    df_electrical['Electrical_SBrkr'] = df.Electrical == 'SBrkr'\n",
    "    df_electrical['Electrical_FuseA'] = df.Electrical == 'FuseA'\n",
    "    df_electrical['Electrical_FuseF'] = df.Electrical == 'FuseF'\n",
    "    df_electrical['Electrical_FuseP'] = df.Electrical == 'FuseP'\n",
    "    df_electrical['Electrical_Mix'] = df.Electrical == 'Mix'\n",
    "    df_electrical['Electrical_Null'] = df.Electrical.isnull()\n",
    "\n",
    "    # MasVnrType\n",
    "    index = 4\n",
    "    columns = ['MasVnrType_BrkFace', 'MasVnrType_Stone', 'MasVnrType_BrkCmn', 'MasVnrType_Null']\n",
    "    df_masVnrType = pd.DataFrame(columns=columns)\n",
    "    df_masVnrType['MasVnrType_BrkFace'] = df.MasVnrType == 'BrkFace'\n",
    "    df_masVnrType['MasVnrType_Stone'] = df.MasVnrType == 'Stone'\n",
    "    df_masVnrType['MasVnrType_BrkCmn'] = df.MasVnrType == 'BrkCmn'\n",
    "    df_masVnrType['MasVnrType_Null'] = df.MasVnrType.isnull()\n",
    "\n",
    "    # GarageType\n",
    "    index = 7\n",
    "    columns = ['GarageType_2Types', 'GarageType_Attchd', 'GarageType_Basment', 'GarageType_BuiltIn', 'GarageType_CarPort', \n",
    "               'GarageType_Detchd', 'GarageType_Null']\n",
    "    df_garageType = pd.DataFrame(columns=columns)\n",
    "    df_garageType['GarageType_2Types'] = df.GarageType == '2Types'\n",
    "    df_garageType['GarageType_Attchd'] = df.GarageType == 'Attchd'\n",
    "    df_garageType['GarageType_Basment'] = df.GarageType == 'Basment'\n",
    "    df_garageType['GarageType_BuiltIn'] = df.GarageType == 'BuiltIn'\n",
    "    df_garageType['GarageType_CarPort'] = df.GarageType == 'CarPort'\n",
    "    df_garageType['GarageType_Detchd'] = df.GarageType == 'Detchd'\n",
    "    df_garageType['GarageType_Null'] = df.GarageType.isnull()\n",
    "\n",
    "    # MiscFeature\n",
    "    index = 5\n",
    "    columns = ['MiscFeature_Elev', 'MiscFeature_Gar2', 'MiscFeature_Shed', 'MiscFeature_TenC', 'MiscFeature_Null']\n",
    "    df_miscFeature = pd.DataFrame(columns=columns)\n",
    "    df_miscFeature['MiscFeature_Elev'] = df.MiscFeature == 'Elev'\n",
    "    df_miscFeature['MiscFeature_Gar2'] = df.MiscFeature == 'Gar2'\n",
    "    df_miscFeature['MiscFeature_Shed'] = df.MiscFeature == 'Shed'\n",
    "    df_miscFeature['MiscFeature_TenC'] = df.MiscFeature == 'TenC'\n",
    "    df_miscFeature['MiscFeature_Null'] = df.MiscFeature.isnull()\n",
    "\n",
    "    OH_df = pd.concat([df_electrical, df_masVnrType, df_garageType, df_miscFeature], axis=1)\n",
    "    return OH_df"
   ]
  },
  {
   "cell_type": "code",
   "execution_count": 9,
   "metadata": {},
   "outputs": [],
   "source": [
    "OH_X_train = one_hot_encoding(X_train)\n",
    "OH_X_valid = one_hot_encoding(X_valid)\n",
    "\n",
    "cols_to_drop = ['Electrical', 'MasVnrType', 'GarageType', 'MiscFeature']\n",
    "\n",
    "# Remove categorical columns\n",
    "droped_X_train = X_train.drop(cols_to_drop, axis=1)\n",
    "droped_X_valid = X_valid.drop(cols_to_drop, axis=1)\n",
    "\n",
    "# Add one-hot encoded columns to numerical features\n",
    "X_train = pd.concat([droped_X_train, OH_X_train], axis=1)\n",
    "X_valid = pd.concat([droped_X_valid, OH_X_valid], axis=1)\n"
   ]
  },
  {
   "cell_type": "markdown",
   "metadata": {},
   "source": [
    "# Checking for missing values again"
   ]
  },
  {
   "cell_type": "code",
   "execution_count": 10,
   "metadata": {},
   "outputs": [
    {
     "name": "stdout",
     "output_type": "stream",
     "text": [
      "(1168, 94)\n",
      "LotFrontage    212\n",
      "MasVnrArea       6\n",
      "dtype: int64\n"
     ]
    }
   ],
   "source": [
    "# Shape of training data (num_rows, num_columns)\n",
    "print(X_train.shape)\n",
    "\n",
    "# Number of missing values in each column of training data\n",
    "missing_val_count_by_column = (X_train.isnull().sum())\n",
    "print(missing_val_count_by_column[missing_val_count_by_column > 0])"
   ]
  },
  {
   "cell_type": "markdown",
   "metadata": {},
   "source": [
    "# Drop text columns"
   ]
  },
  {
   "cell_type": "code",
   "execution_count": 11,
   "metadata": {},
   "outputs": [],
   "source": [
    "# To keep things simple, we'll use only numerical predictors\n",
    "X_train = X_train.select_dtypes(exclude=['object'])\n",
    "X_valid = X_valid.select_dtypes(exclude=['object'])"
   ]
  },
  {
   "cell_type": "markdown",
   "metadata": {},
   "source": [
    "# Imputation"
   ]
  },
  {
   "cell_type": "code",
   "execution_count": 12,
   "metadata": {},
   "outputs": [],
   "source": [
    "from sklearn.impute import SimpleImputer\n",
    "\n",
    "# Imputation\n",
    "imputer = SimpleImputer() \n",
    "imputed_X_train = pd.DataFrame(imputer.fit_transform(X_train))\n",
    "imputed_X_valid = pd.DataFrame(imputer.transform(X_valid))\n",
    "\n",
    "# FImputation removed column names; put them back\n",
    "imputed_X_train.columns = X_train.columns\n",
    "imputed_X_valid.columns = X_valid.columns\n",
    "\n",
    "X_train = imputed_X_train\n",
    "X_valid = imputed_X_valid"
   ]
  },
  {
   "cell_type": "markdown",
   "metadata": {},
   "source": [
    "# Select a model"
   ]
  },
  {
   "cell_type": "code",
   "execution_count": 13,
   "metadata": {},
   "outputs": [],
   "source": [
    "from sklearn.ensemble import RandomForestRegressor\n",
    "from sklearn.metrics import mean_absolute_error\n",
    "\n",
    "model = RandomForestRegressor(n_estimators=100, random_state=0)\n",
    "model.fit(X_train, y_train)\n",
    "preds = model.predict(X_valid)"
   ]
  },
  {
   "cell_type": "code",
   "execution_count": 14,
   "metadata": {},
   "outputs": [
    {
     "name": "stdout",
     "output_type": "stream",
     "text": [
      "MAE (Drop columns with missing values):\n",
      "17765.979315068496\n"
     ]
    }
   ],
   "source": [
    "print(\"MAE (Drop columns with missing values):\")\n",
    "print(mean_absolute_error(y_valid, preds))"
   ]
  },
  {
   "cell_type": "markdown",
   "metadata": {},
   "source": [
    "# SUBMISSION - Generate test predictions"
   ]
  },
  {
   "cell_type": "code",
   "execution_count": 15,
   "metadata": {},
   "outputs": [
    {
     "name": "stdout",
     "output_type": "stream",
     "text": [
      "(1459, 67)\n"
     ]
    }
   ],
   "source": [
    "# Label Encoding // CATEGORIES TO NUMBER\n",
    "X_test = label_enconding(X_test.copy())\n",
    "\n",
    "\n",
    "## X_test  ON HOT ENCODER ##\n",
    "OH_X_test = one_hot_encoding(X_test)\n",
    "\n",
    "cols_to_drop = ['Electrical', 'MasVnrType', 'GarageType', 'MiscFeature']\n",
    "\n",
    "# Remove categorical columns\n",
    "droped_X_test = X_test.drop(cols_to_drop, axis=1)\n",
    "# Add one-hot encoded columns to numerical features\n",
    "X_test = pd.concat([droped_X_test, OH_X_test], axis=1)\n",
    "\n",
    "\n",
    "# Drop columns we don't want to use\n",
    "cols_to_drop = ['GarageYrBlt', 'GarageCond','Fence']\n",
    "X_test.drop(cols_to_drop, axis=1, inplace=True)\n",
    "\n",
    "\n",
    "# Drop text columns\n",
    "X_test = X_test.select_dtypes(exclude=['object'])\n",
    "\n",
    "\n",
    "# Shape of training data (num_rows, num_columns)\n",
    "print(X_test.shape)"
   ]
  },
  {
   "cell_type": "code",
   "execution_count": 17,
   "metadata": {},
   "outputs": [],
   "source": [
    "#from sklearn.impute import SimpleImputer\n",
    "\n",
    "# Imputation\n",
    "#imputer = SimpleImputer() \n",
    "imputed_X_test = pd.DataFrame(imputer.fit_transform(X_test))\n",
    "\n",
    "# FImputation removed column names; put them back\n",
    "imputed_X_test.columns = X_test.columns\n",
    "imputed_X_test.index = X_test.index\n",
    "X_test = imputed_X_test"
   ]
  },
  {
   "cell_type": "code",
   "execution_count": 18,
   "metadata": {},
   "outputs": [
    {
     "data": {
      "text/html": [
       "<div>\n",
       "<style scoped>\n",
       "    .dataframe tbody tr th:only-of-type {\n",
       "        vertical-align: middle;\n",
       "    }\n",
       "\n",
       "    .dataframe tbody tr th {\n",
       "        vertical-align: top;\n",
       "    }\n",
       "\n",
       "    .dataframe thead th {\n",
       "        text-align: right;\n",
       "    }\n",
       "</style>\n",
       "<table border=\"1\" class=\"dataframe\">\n",
       "  <thead>\n",
       "    <tr style=\"text-align: right;\">\n",
       "      <th></th>\n",
       "      <th>MSSubClass</th>\n",
       "      <th>LotFrontage</th>\n",
       "      <th>LotArea</th>\n",
       "      <th>Alley</th>\n",
       "      <th>OverallQual</th>\n",
       "      <th>OverallCond</th>\n",
       "      <th>YearBuilt</th>\n",
       "      <th>YearRemodAdd</th>\n",
       "      <th>MasVnrArea</th>\n",
       "      <th>BsmtQual</th>\n",
       "      <th>...</th>\n",
       "      <th>GarageType_Basment</th>\n",
       "      <th>GarageType_BuiltIn</th>\n",
       "      <th>GarageType_CarPort</th>\n",
       "      <th>GarageType_Detchd</th>\n",
       "      <th>GarageType_Null</th>\n",
       "      <th>MiscFeature_Elev</th>\n",
       "      <th>MiscFeature_Gar2</th>\n",
       "      <th>MiscFeature_Shed</th>\n",
       "      <th>MiscFeature_TenC</th>\n",
       "      <th>MiscFeature_Null</th>\n",
       "    </tr>\n",
       "  </thead>\n",
       "  <tbody>\n",
       "    <tr>\n",
       "      <th>1461</th>\n",
       "      <td>20.0</td>\n",
       "      <td>80.0</td>\n",
       "      <td>11622.0</td>\n",
       "      <td>0.0</td>\n",
       "      <td>5.0</td>\n",
       "      <td>6.0</td>\n",
       "      <td>1961.0</td>\n",
       "      <td>1961.0</td>\n",
       "      <td>0.0</td>\n",
       "      <td>3.0</td>\n",
       "      <td>...</td>\n",
       "      <td>0.0</td>\n",
       "      <td>0.0</td>\n",
       "      <td>0.0</td>\n",
       "      <td>0.0</td>\n",
       "      <td>0.0</td>\n",
       "      <td>0.0</td>\n",
       "      <td>0.0</td>\n",
       "      <td>0.0</td>\n",
       "      <td>0.0</td>\n",
       "      <td>1.0</td>\n",
       "    </tr>\n",
       "    <tr>\n",
       "      <th>1462</th>\n",
       "      <td>20.0</td>\n",
       "      <td>81.0</td>\n",
       "      <td>14267.0</td>\n",
       "      <td>0.0</td>\n",
       "      <td>6.0</td>\n",
       "      <td>6.0</td>\n",
       "      <td>1958.0</td>\n",
       "      <td>1958.0</td>\n",
       "      <td>108.0</td>\n",
       "      <td>3.0</td>\n",
       "      <td>...</td>\n",
       "      <td>0.0</td>\n",
       "      <td>0.0</td>\n",
       "      <td>0.0</td>\n",
       "      <td>0.0</td>\n",
       "      <td>0.0</td>\n",
       "      <td>0.0</td>\n",
       "      <td>1.0</td>\n",
       "      <td>0.0</td>\n",
       "      <td>0.0</td>\n",
       "      <td>0.0</td>\n",
       "    </tr>\n",
       "    <tr>\n",
       "      <th>1463</th>\n",
       "      <td>60.0</td>\n",
       "      <td>74.0</td>\n",
       "      <td>13830.0</td>\n",
       "      <td>0.0</td>\n",
       "      <td>5.0</td>\n",
       "      <td>5.0</td>\n",
       "      <td>1997.0</td>\n",
       "      <td>1998.0</td>\n",
       "      <td>0.0</td>\n",
       "      <td>4.0</td>\n",
       "      <td>...</td>\n",
       "      <td>0.0</td>\n",
       "      <td>0.0</td>\n",
       "      <td>0.0</td>\n",
       "      <td>0.0</td>\n",
       "      <td>0.0</td>\n",
       "      <td>0.0</td>\n",
       "      <td>0.0</td>\n",
       "      <td>0.0</td>\n",
       "      <td>0.0</td>\n",
       "      <td>1.0</td>\n",
       "    </tr>\n",
       "    <tr>\n",
       "      <th>1464</th>\n",
       "      <td>60.0</td>\n",
       "      <td>78.0</td>\n",
       "      <td>9978.0</td>\n",
       "      <td>0.0</td>\n",
       "      <td>6.0</td>\n",
       "      <td>6.0</td>\n",
       "      <td>1998.0</td>\n",
       "      <td>1998.0</td>\n",
       "      <td>20.0</td>\n",
       "      <td>3.0</td>\n",
       "      <td>...</td>\n",
       "      <td>0.0</td>\n",
       "      <td>0.0</td>\n",
       "      <td>0.0</td>\n",
       "      <td>0.0</td>\n",
       "      <td>0.0</td>\n",
       "      <td>0.0</td>\n",
       "      <td>0.0</td>\n",
       "      <td>0.0</td>\n",
       "      <td>0.0</td>\n",
       "      <td>1.0</td>\n",
       "    </tr>\n",
       "    <tr>\n",
       "      <th>1465</th>\n",
       "      <td>120.0</td>\n",
       "      <td>43.0</td>\n",
       "      <td>5005.0</td>\n",
       "      <td>0.0</td>\n",
       "      <td>8.0</td>\n",
       "      <td>5.0</td>\n",
       "      <td>1992.0</td>\n",
       "      <td>1992.0</td>\n",
       "      <td>0.0</td>\n",
       "      <td>4.0</td>\n",
       "      <td>...</td>\n",
       "      <td>0.0</td>\n",
       "      <td>0.0</td>\n",
       "      <td>0.0</td>\n",
       "      <td>0.0</td>\n",
       "      <td>0.0</td>\n",
       "      <td>0.0</td>\n",
       "      <td>0.0</td>\n",
       "      <td>0.0</td>\n",
       "      <td>0.0</td>\n",
       "      <td>1.0</td>\n",
       "    </tr>\n",
       "  </tbody>\n",
       "</table>\n",
       "<p>5 rows × 67 columns</p>\n",
       "</div>"
      ],
      "text/plain": [
       "      MSSubClass  LotFrontage  LotArea  Alley  OverallQual  OverallCond  \\\n",
       "1461        20.0         80.0  11622.0    0.0          5.0          6.0   \n",
       "1462        20.0         81.0  14267.0    0.0          6.0          6.0   \n",
       "1463        60.0         74.0  13830.0    0.0          5.0          5.0   \n",
       "1464        60.0         78.0   9978.0    0.0          6.0          6.0   \n",
       "1465       120.0         43.0   5005.0    0.0          8.0          5.0   \n",
       "\n",
       "      YearBuilt  YearRemodAdd  MasVnrArea  BsmtQual  ...  GarageType_Basment  \\\n",
       "1461     1961.0        1961.0         0.0       3.0  ...                 0.0   \n",
       "1462     1958.0        1958.0       108.0       3.0  ...                 0.0   \n",
       "1463     1997.0        1998.0         0.0       4.0  ...                 0.0   \n",
       "1464     1998.0        1998.0        20.0       3.0  ...                 0.0   \n",
       "1465     1992.0        1992.0         0.0       4.0  ...                 0.0   \n",
       "\n",
       "      GarageType_BuiltIn  GarageType_CarPort  GarageType_Detchd  \\\n",
       "1461                 0.0                 0.0                0.0   \n",
       "1462                 0.0                 0.0                0.0   \n",
       "1463                 0.0                 0.0                0.0   \n",
       "1464                 0.0                 0.0                0.0   \n",
       "1465                 0.0                 0.0                0.0   \n",
       "\n",
       "      GarageType_Null  MiscFeature_Elev  MiscFeature_Gar2  MiscFeature_Shed  \\\n",
       "1461              0.0               0.0               0.0               0.0   \n",
       "1462              0.0               0.0               1.0               0.0   \n",
       "1463              0.0               0.0               0.0               0.0   \n",
       "1464              0.0               0.0               0.0               0.0   \n",
       "1465              0.0               0.0               0.0               0.0   \n",
       "\n",
       "      MiscFeature_TenC  MiscFeature_Null  \n",
       "1461               0.0               1.0  \n",
       "1462               0.0               0.0  \n",
       "1463               0.0               1.0  \n",
       "1464               0.0               1.0  \n",
       "1465               0.0               1.0  \n",
       "\n",
       "[5 rows x 67 columns]"
      ]
     },
     "execution_count": 18,
     "metadata": {},
     "output_type": "execute_result"
    }
   ],
   "source": [
    "X_test.head()"
   ]
  },
  {
   "cell_type": "code",
   "execution_count": 19,
   "metadata": {},
   "outputs": [
    {
     "name": "stdout",
     "output_type": "stream",
     "text": [
      "Series([], dtype: int64)\n"
     ]
    }
   ],
   "source": [
    "# Number of missing values in each column of training data\n",
    "missing_val_count_by_column = (X_test.isnull().sum())\n",
    "print(missing_val_count_by_column[missing_val_count_by_column > 0])"
   ]
  },
  {
   "cell_type": "markdown",
   "metadata": {},
   "source": [
    "# Generate submission"
   ]
  },
  {
   "cell_type": "code",
   "execution_count": 20,
   "metadata": {},
   "outputs": [],
   "source": [
    "#model = RandomForestRegressor(n_estimators=100, random_state=0)\n",
    "#model.fit(X_train, y_train)\n",
    "#preds = model.predict(X_valid)\n",
    "#print(mean_absolute_error(y_valid, preds))\n",
    "\n",
    "preds_test = model.predict(X_test)"
   ]
  },
  {
   "cell_type": "code",
   "execution_count": 21,
   "metadata": {},
   "outputs": [],
   "source": [
    "# Save test predictions to file\n",
    "output = pd.DataFrame({'Id': X_test.index,\n",
    "                       'SalePrice': preds_test})\n",
    "output.to_csv(working_path + 'output/submission.csv', index=False)"
   ]
  },
  {
   "cell_type": "markdown",
   "metadata": {},
   "source": [
    "# Step 5: Submit your results\n",
    "\n",
    "Once you have successfully completed Step 4, you're ready to submit your results to the leaderboard!  (_You also learned how to do this in the previous exercise.  If you need a reminder of how to do this, please use the instructions below._)  \n",
    "\n",
    "First, you'll need to join the competition if you haven't already.  So open a new window by clicking on [this link](https://www.kaggle.com/c/home-data-for-ml-course).  Then click on the **Join Competition** button.\n",
    "\n",
    "![join competition image](https://i.imgur.com/wLmFtH3.png)\n",
    "\n",
    "Next, follow the instructions below:\n",
    "1. Begin by clicking on the blue **Save Version** button in the top right corner of the window.  This will generate a pop-up window.  \n",
    "2. Ensure that the **Save and Run All** option is selected, and then click on the blue **Save** button.\n",
    "3. This generates a window in the bottom left corner of the notebook.  After it has finished running, click on the number to the right of the **Save Version** button.  This pulls up a list of versions on the right of the screen.  Click on the ellipsis **(...)** to the right of the most recent version, and select **Open in Viewer**.  This brings you into view mode of the same page. You will need to scroll down to get back to these instructions.\n",
    "4. Click on the **Output** tab on the right of the screen.  Then, click on the blue **Submit** button to submit your results to the leaderboard.\n",
    "\n",
    "You have now successfully submitted to the competition!\n",
    "\n",
    "If you want to keep working to improve your performance, select the blue **Edit** button in the top right of the screen. Then you can change your code and repeat the process. There's a lot of room to improve, and you will climb up the leaderboard as you work.\n",
    "\n",
    "\n",
    "# Keep going\n",
    "\n",
    "Move on to learn what **[categorical variables](https://www.kaggle.com/alexisbcook/categorical-variables)** are, along with how to incorporate them into your machine learning models.  Categorical variables are very common in real-world data, but you'll get an error if you try to plug them into your models without processing them first!"
   ]
  },
  {
   "cell_type": "markdown",
   "metadata": {},
   "source": [
    "---\n",
    "**[Intermediate Machine Learning Home Page](https://www.kaggle.com/learn/intermediate-machine-learning)**\n",
    "\n",
    "\n",
    "\n",
    "\n",
    "\n",
    "*Have questions or comments? Visit the [Learn Discussion forum](https://www.kaggle.com/learn-forum/161289) to chat with other Learners.*"
   ]
  }
 ],
 "metadata": {
  "kernelspec": {
   "display_name": "Python 3",
   "language": "python",
   "name": "python3"
  },
  "language_info": {
   "codemirror_mode": {
    "name": "ipython",
    "version": 3
   },
   "file_extension": ".py",
   "mimetype": "text/x-python",
   "name": "python",
   "nbconvert_exporter": "python",
   "pygments_lexer": "ipython3",
   "version": "3.8.5"
  }
 },
 "nbformat": 4,
 "nbformat_minor": 4
}
