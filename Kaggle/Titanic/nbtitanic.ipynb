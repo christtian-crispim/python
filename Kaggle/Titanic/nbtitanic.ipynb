{
 "cells": [
  {
   "cell_type": "code",
   "execution_count": 1,
   "metadata": {
    "_cell_guid": "b1076dfc-b9ad-4769-8c92-a6c4dae69d19",
    "_uuid": "8f2839f25d086af736a60e9eeb907d3b93b6e0e5",
    "execution": {
     "iopub.execute_input": "2020-09-04T16:00:30.319172Z",
     "iopub.status.busy": "2020-09-04T16:00:30.318321Z",
     "iopub.status.idle": "2020-09-04T16:00:31.318939Z",
     "shell.execute_reply": "2020-09-04T16:00:31.318282Z"
    },
    "papermill": {
     "duration": 1.019439,
     "end_time": "2020-09-04T16:00:31.319095",
     "exception": false,
     "start_time": "2020-09-04T16:00:30.299656",
     "status": "completed"
    },
    "tags": []
   },
   "outputs": [
    {
     "name": "stdout",
     "output_type": "stream",
     "text": [
      "/kaggle/input/titanic/train.csv\n",
      "/kaggle/input/titanic/gender_submission.csv\n",
      "/kaggle/input/titanic/test.csv\n"
     ]
    }
   ],
   "source": [
    "import numpy as np # linear algebra\n",
    "import pandas as pd # data processing, CSV file I/O (e.g. pd.read_csv)\n",
    "from matplotlib import pyplot\n",
    "from sklearn.model_selection import train_test_split\n",
    "\n",
    "import os\n",
    "for dirname, _, filenames in os.walk('/kaggle/input'):\n",
    "    for filename in filenames:\n",
    "        print(os.path.join(dirname, filename))"
   ]
  },
  {
   "cell_type": "code",
   "execution_count": 2,
   "metadata": {
    "_cell_guid": "79c7e3d0-c299-4dcb-8224-4455121ee9b0",
    "_uuid": "d629ff2d2480ee46fbb7e2d37f6b5fab8052498a",
    "execution": {
     "iopub.execute_input": "2020-09-04T16:00:31.347759Z",
     "iopub.status.busy": "2020-09-04T16:00:31.346784Z",
     "iopub.status.idle": "2020-09-04T16:00:31.387624Z",
     "shell.execute_reply": "2020-09-04T16:00:31.386960Z"
    },
    "papermill": {
     "duration": 0.058223,
     "end_time": "2020-09-04T16:00:31.387822",
     "exception": false,
     "start_time": "2020-09-04T16:00:31.329599",
     "status": "completed"
    },
    "tags": []
   },
   "outputs": [],
   "source": [
    "# Step 1 - Load data files\n",
    "df_train = pd.read_csv(\"/kaggle/input/titanic/train.csv\")\n",
    "df_test = pd.read_csv(\"/kaggle/input/titanic/test.csv\")"
   ]
  },
  {
   "cell_type": "code",
   "execution_count": 3,
   "metadata": {
    "execution": {
     "iopub.execute_input": "2020-09-04T16:00:31.430326Z",
     "iopub.status.busy": "2020-09-04T16:00:31.428352Z",
     "iopub.status.idle": "2020-09-04T16:00:31.434833Z",
     "shell.execute_reply": "2020-09-04T16:00:31.433971Z"
    },
    "papermill": {
     "duration": 0.036797,
     "end_time": "2020-09-04T16:00:31.434994",
     "exception": false,
     "start_time": "2020-09-04T16:00:31.398197",
     "status": "completed"
    },
    "tags": []
   },
   "outputs": [
    {
     "name": "stdout",
     "output_type": "stream",
     "text": [
      "% of women who survived: 0.7420382165605095\n",
      "% of men who survived: 0.18890814558058924\n"
     ]
    }
   ],
   "source": [
    "# Step 2 - Understanding the data\n",
    "\n",
    "#df_train.head()\n",
    "#df_test.head()\n",
    "#df_train.describe()\n",
    "\n",
    "women = df_train.loc[df_train.Sex=='female'][\"Survived\"]\n",
    "rate_women = sum(women)/len(women)\n",
    "print(\"% of women who survived:\", rate_women)\n",
    "#women.describe()\n",
    "\n",
    "men = df_train.loc[df_train.Sex=='male'][\"Survived\"]\n",
    "rate_men = sum(men)/len(men)\n",
    "print(\"% of men who survived:\", rate_men)\n",
    "#men.describe()\n",
    "\n",
    "\n",
    "#y = df_train.loc[np.isnan(df_train.Age)==1]\n",
    "#y.head(20)"
   ]
  },
  {
   "cell_type": "code",
   "execution_count": 4,
   "metadata": {
    "execution": {
     "iopub.execute_input": "2020-09-04T16:00:31.462750Z",
     "iopub.status.busy": "2020-09-04T16:00:31.461995Z",
     "iopub.status.idle": "2020-09-04T16:00:31.464236Z",
     "shell.execute_reply": "2020-09-04T16:00:31.464950Z"
    },
    "papermill": {
     "duration": 0.018633,
     "end_time": "2020-09-04T16:00:31.465128",
     "exception": false,
     "start_time": "2020-09-04T16:00:31.446495",
     "status": "completed"
    },
    "tags": []
   },
   "outputs": [],
   "source": [
    "# Step 2 - ...continue to understand, visually\n",
    "\n",
    "#serie_survived = df_train[\"Survived\"]\n",
    "#serie_pclass = df_train[\"Pclass\"]\n",
    "#serie_age = df_train[\"Age\"]\n",
    "#serie_fare = df_train[\"Fare\"] # morreram igual\n",
    "#serie_sibsp = df_train[\"SibSp\"]\n",
    "#serie_parch = df_train[\"Parch\"]\n",
    "\n",
    "##serie_pclass.head()\n",
    "#pyplot.scatter(serie_parch, serie_survived)\n",
    "#pyplot.show()"
   ]
  },
  {
   "cell_type": "code",
   "execution_count": 5,
   "metadata": {
    "execution": {
     "iopub.execute_input": "2020-09-04T16:00:31.498113Z",
     "iopub.status.busy": "2020-09-04T16:00:31.497368Z",
     "iopub.status.idle": "2020-09-04T16:00:31.536614Z",
     "shell.execute_reply": "2020-09-04T16:00:31.535812Z"
    },
    "papermill": {
     "duration": 0.061018,
     "end_time": "2020-09-04T16:00:31.536739",
     "exception": false,
     "start_time": "2020-09-04T16:00:31.475721",
     "status": "completed"
    },
    "tags": []
   },
   "outputs": [],
   "source": [
    "#Step 3 - Cleaning the data (putting bias)\n",
    "\n",
    "#df_train = df_train.dropna(axis=0, subset=['Age'])\n",
    "#df_train = df_train.fillna(df_train.mean().to_dict())\n",
    "df_train[['Age']] = df_train[['Age']].fillna(df_train.mean().to_dict())\n",
    "df_train.describe()\n",
    "\n",
    "# É correto alterar o dataframe de teste? #\n",
    "# df_test = df_test.dropna(axis=0, subset=['Age'])\n",
    "#df_test = df_test.fillna(df_test.mean().to_dict())\n",
    "df_test[['Age']] = df_test[['Age']].fillna(df_test.mean().to_dict())\n",
    "#df_test.describe()"
   ]
  },
  {
   "cell_type": "code",
   "execution_count": 6,
   "metadata": {
    "execution": {
     "iopub.execute_input": "2020-09-04T16:00:31.572593Z",
     "iopub.status.busy": "2020-09-04T16:00:31.571465Z",
     "iopub.status.idle": "2020-09-04T16:00:31.586454Z",
     "shell.execute_reply": "2020-09-04T16:00:31.585749Z"
    },
    "papermill": {
     "duration": 0.038241,
     "end_time": "2020-09-04T16:00:31.586592",
     "exception": false,
     "start_time": "2020-09-04T16:00:31.548351",
     "status": "completed"
    },
    "tags": []
   },
   "outputs": [],
   "source": [
    "# Step 4 - Selecting features, and target\n",
    "features = [\"Pclass\", \"Age\", \"Sex\", \"SibSp\", \"Parch\"]\n",
    "y = df_train[\"Survived\"]\n",
    "X = pd.get_dummies(df_train[features])\n",
    "X_test = pd.get_dummies(df_test[features])\n",
    "\n",
    "# Step 4 - Spliting trainning and test\n",
    "df_train_X, df_val_X, df_train_y, df_val_y = train_test_split(X, y, random_state = 0)"
   ]
  },
  {
   "cell_type": "code",
   "execution_count": 7,
   "metadata": {
    "execution": {
     "iopub.execute_input": "2020-09-04T16:00:31.630550Z",
     "iopub.status.busy": "2020-09-04T16:00:31.629664Z",
     "iopub.status.idle": "2020-09-04T16:00:38.085418Z",
     "shell.execute_reply": "2020-09-04T16:00:38.084627Z"
    },
    "papermill": {
     "duration": 6.487693,
     "end_time": "2020-09-04T16:00:38.085561",
     "exception": false,
     "start_time": "2020-09-04T16:00:31.597868",
     "status": "completed"
    },
    "tags": []
   },
   "outputs": [
    {
     "name": "stdout",
     "output_type": "stream",
     "text": [
      "For max_depth of 5, max_leaf_nodes of 10 the mean returned is 0.18385650224215247\n",
      "For max_depth of 5, max_leaf_nodes of 20 the mean returned is 0.17937219730941703\n",
      "For max_depth of 5, max_leaf_nodes of 30 the mean returned is 0.17937219730941703\n",
      "For max_depth of 5, max_leaf_nodes of 15 the mean returned is 0.17937219730941703\n",
      "For max_depth of 5, max_leaf_nodes of 25 the mean returned is 0.17937219730941703\n",
      "For max_depth of 6, max_leaf_nodes of 10 the mean returned is 0.18385650224215247\n",
      "For max_depth of 6, max_leaf_nodes of 20 the mean returned is 0.17937219730941703\n",
      "For max_depth of 6, max_leaf_nodes of 30 the mean returned is 0.17937219730941703\n",
      "For max_depth of 6, max_leaf_nodes of 15 the mean returned is 0.17937219730941703\n",
      "For max_depth of 6, max_leaf_nodes of 25 the mean returned is 0.17937219730941703\n",
      "For max_depth of 7, max_leaf_nodes of 10 the mean returned is 0.18834080717488788\n",
      "For max_depth of 7, max_leaf_nodes of 20 the mean returned is 0.17488789237668162\n",
      "For max_depth of 7, max_leaf_nodes of 30 the mean returned is 0.17937219730941703\n",
      "For max_depth of 7, max_leaf_nodes of 15 the mean returned is 0.17937219730941703\n",
      "For max_depth of 7, max_leaf_nodes of 25 the mean returned is 0.17488789237668162\n",
      "For max_depth of 8, max_leaf_nodes of 10 the mean returned is 0.18834080717488788\n",
      "For max_depth of 8, max_leaf_nodes of 20 the mean returned is 0.17937219730941703\n",
      "For max_depth of 8, max_leaf_nodes of 30 the mean returned is 0.17937219730941703\n",
      "For max_depth of 8, max_leaf_nodes of 15 the mean returned is 0.17937219730941703\n",
      "For max_depth of 8, max_leaf_nodes of 25 the mean returned is 0.17488789237668162\n",
      "For max_depth of 9, max_leaf_nodes of 10 the mean returned is 0.18834080717488788\n",
      "For max_depth of 9, max_leaf_nodes of 20 the mean returned is 0.17488789237668162\n",
      "For max_depth of 9, max_leaf_nodes of 30 the mean returned is 0.17488789237668162\n",
      "For max_depth of 9, max_leaf_nodes of 15 the mean returned is 0.17937219730941703\n",
      "For max_depth of 9, max_leaf_nodes of 25 the mean returned is 0.17040358744394618\n",
      "WINNERs - max_depth: 9, max_leaf_nodes: 25, mean returned: 0.17040358744394618\n"
     ]
    }
   ],
   "source": [
    "# Step 5 - Testing models and defining\n",
    "from sklearn.metrics import mean_absolute_error\n",
    "from sklearn.ensemble import RandomForestClassifier\n",
    "from sklearn.tree import DecisionTreeRegressor\n",
    "\n",
    "def get_dtr_mae(max_leaf_nodes, train_X, val_X, train_y, val_y):\n",
    "    model = DecisionTreeRegressor(max_leaf_nodes=max_leaf_nodes, random_state=0)\n",
    "    model.fit(train_X, train_y)\n",
    "    preds_val = model.predict(val_X)\n",
    "    mae = mean_absolute_error(val_y, preds_val)\n",
    "    return(mae)\n",
    "\n",
    "def get_rfc_mae(max_depth, max_leaf_nodes, train_X, val_X, train_y, val_y):\n",
    "    model = RandomForestClassifier(n_estimators=100, max_depth=max_depth, max_leaf_nodes=max_leaf_nodes, random_state=0)\n",
    "    model.fit(train_X, train_y)\n",
    "    preds_val = model.predict(val_X)\n",
    "    mae = mean_absolute_error(val_y, preds_val)\n",
    "    return(mae)\n",
    "\n",
    "# max_depth, max_leaf_nodes\n",
    "candidates_matrix = [\n",
    "    [5,10],  [5,20],  [5,30],  [5,15],  [5,25], \n",
    "    [6,10],  [6,20],  [6,30],  [6,15],  [6,25], \n",
    "    [7,10],  [7,20],  [7,30],  [7,15],  [7,25], \n",
    "    [8,10],  [8,20],  [8,30],  [8,15],  [8,25], \n",
    "    [9,10],  [9,20],  [9,30],  [9,15],  [9,25]\n",
    "]\n",
    "\n",
    "best_depth_value = 0\n",
    "best_leaf_value = 0\n",
    "best_mae_value = 9999999\n",
    "for couple in candidates_matrix:\n",
    "    current_mae = get_rfc_mae(couple[0], couple[1], df_train_X, df_val_X, df_train_y, df_val_y)\n",
    "    print(\"For max_depth of %s, max_leaf_nodes of %s the mean returned is %s\" % (couple[0], couple[1], current_mae))\n",
    "    if(current_mae < best_mae_value):\n",
    "        best_mae_value = current_mae\n",
    "        best_depth_value = couple[0]\n",
    "        best_leaf_value = couple[1]\n",
    "\n",
    "print(\"WINNERs - max_depth: %s, max_leaf_nodes: %s, mean returned: %s\" % (best_depth_value, best_leaf_value, best_mae_value))\n",
    "\n",
    "\n",
    "## RandomForestClassifier\n",
    "## Define the model\n",
    "#model = RandomForestClassifier(n_estimators=100, max_depth=5, random_state=1)\n",
    "## Fit\n",
    "#model.fit(df_train_X, df_train_y)\n",
    "## Predict\n",
    "#predictions = model.predict(df_val_X)\n",
    "## Evaluate\n",
    "#print(mean_absolute_error(df_val_y, predictions))\n",
    "##output = pd.DataFrame({ 'PassengerId': df_test.PassengerId,  'Survived': predictions})\n",
    "\n",
    "\n",
    "# DecisionTreeRegressor #\n",
    "#model = DecisionTreeRegressor(random_state=7)\n",
    "#model.fit(X,y)\n",
    "#predictions = model.predict(X_test)\n",
    "#output = pd.DataFrame({ 'PassengerId': df_test.PassengerId,  'Survived': predictions.astype(int) })\n"
   ]
  },
  {
   "cell_type": "code",
   "execution_count": 8,
   "metadata": {
    "execution": {
     "iopub.execute_input": "2020-09-04T16:00:38.139415Z",
     "iopub.status.busy": "2020-09-04T16:00:38.138492Z",
     "iopub.status.idle": "2020-09-04T16:00:38.392201Z",
     "shell.execute_reply": "2020-09-04T16:00:38.391428Z"
    },
    "papermill": {
     "duration": 0.285183,
     "end_time": "2020-09-04T16:00:38.392334",
     "exception": false,
     "start_time": "2020-09-04T16:00:38.107151",
     "status": "completed"
    },
    "tags": []
   },
   "outputs": [],
   "source": [
    "# Code to sumbit to competition\n",
    "model = RandomForestClassifier(n_estimators=100, max_depth=9, max_leaf_nodes=25, random_state=0)\n",
    "model.fit(X, y)\n",
    "predictions = model.predict(X_test)\n",
    "output = pd.DataFrame({ 'PassengerId': df_test.PassengerId,  'Survived': predictions})"
   ]
  },
  {
   "cell_type": "code",
   "execution_count": 9,
   "metadata": {
    "execution": {
     "iopub.execute_input": "2020-09-04T16:00:38.446171Z",
     "iopub.status.busy": "2020-09-04T16:00:38.445322Z",
     "iopub.status.idle": "2020-09-04T16:00:39.079629Z",
     "shell.execute_reply": "2020-09-04T16:00:39.078856Z"
    },
    "papermill": {
     "duration": 0.665765,
     "end_time": "2020-09-04T16:00:39.079754",
     "exception": false,
     "start_time": "2020-09-04T16:00:38.413989",
     "status": "completed"
    },
    "tags": []
   },
   "outputs": [
    {
     "name": "stdout",
     "output_type": "stream",
     "text": [
      "Your submission was successfully saved!\n"
     ]
    }
   ],
   "source": [
    "# Code to sumbit to competition\n",
    "model.fit(X, y)\n",
    "predictions = model.predict(X_test)\n",
    "output = pd.DataFrame({ 'PassengerId': df_test.PassengerId,  'Survived': predictions})\n",
    "\n",
    "output.to_csv('my_submission.csv', index=False)\n",
    "print(\"Your submission was successfully saved!\")\n"
   ]
  },
  {
   "cell_type": "code",
   "execution_count": null,
   "metadata": {
    "papermill": {
     "duration": 0.021669,
     "end_time": "2020-09-04T16:00:39.123682",
     "exception": false,
     "start_time": "2020-09-04T16:00:39.102013",
     "status": "completed"
    },
    "tags": []
   },
   "outputs": [],
   "source": []
  }
 ],
 "metadata": {
  "kernelspec": {
   "display_name": "Python 3",
   "language": "python",
   "name": "python3"
  },
  "language_info": {
   "codemirror_mode": {
    "name": "ipython",
    "version": 3
   },
   "file_extension": ".py",
   "mimetype": "text/x-python",
   "name": "python",
   "nbconvert_exporter": "python",
   "pygments_lexer": "ipython3",
   "version": "3.7.6"
  },
  "papermill": {
   "duration": 13.717074,
   "end_time": "2020-09-04T16:00:39.254119",
   "environment_variables": {},
   "exception": null,
   "input_path": "__notebook__.ipynb",
   "output_path": "__notebook__.ipynb",
   "parameters": {},
   "start_time": "2020-09-04T16:00:25.537045",
   "version": "2.1.0"
  }
 },
 "nbformat": 4,
 "nbformat_minor": 4
}
