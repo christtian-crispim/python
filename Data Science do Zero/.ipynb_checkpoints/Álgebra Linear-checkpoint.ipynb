{
 "cells": [
  {
   "cell_type": "code",
   "execution_count": 2,
   "metadata": {},
   "outputs": [],
   "source": [
    "def vector_add(v, w):\n",
    "    \"\"\"soma elementos correspondentes\"\"\"\n",
    "    return [v_i + w_i\n",
    "           for v_i, w_i in zip(v, w)]"
   ]
  },
  {
   "cell_type": "code",
   "execution_count": 3,
   "metadata": {},
   "outputs": [],
   "source": [
    "def vector_subtract(v, w):\n",
    "    \"\"\"subtrai elementos correspondentes\"\"\"\n",
    "    return [v_i - w_i\n",
    "           for v_i, w_i in zip(v, w)]"
   ]
  },
  {
   "cell_type": "code",
   "execution_count": 10,
   "metadata": {},
   "outputs": [],
   "source": [
    "from functools import partial, reduce\n",
    "\n",
    "def vector_sum(vectors):\n",
    "    \"\"\"soma todos os elementos correspondentes\"\"\"\n",
    "    resul = vectors[0]\n",
    "    for vector in vectors[1:]:\n",
    "        result = vector_add(result, vector)\n",
    "    return result\n",
    "\n",
    "def vector_sum(vectors):\n",
    "    return reduce(vector_add, vectors)\n",
    "\n",
    "vector_sum = partial(reduce, vector_add)"
   ]
  },
  {
   "cell_type": "code",
   "execution_count": 11,
   "metadata": {},
   "outputs": [],
   "source": [
    "def scalar_multiply(c,v):\n",
    "    \"\"\"c é um número, v é um vetor\"\"\"\n",
    "    return [c* v_i for v_i in v ]"
   ]
  },
  {
   "cell_type": "code",
   "execution_count": 13,
   "metadata": {},
   "outputs": [],
   "source": [
    "def vector_mean(vectors):\n",
    "    \"\"\"computar o vetor cujo i-ésimo elemento seja a média dos \n",
    "    i-ésimos elementos dos vetores inclusos\"\"\"\n",
    "    n = len(vectors)\n",
    "    return scalar_multiply(1/n, vector_sum(vectors))"
   ]
  },
  {
   "cell_type": "code",
   "execution_count": 14,
   "metadata": {},
   "outputs": [],
   "source": [
    "def dot(v, w):\n",
    "    \"\"\"v_1 * w_1 + ... + v_n * w_n\"\"\"\n",
    "    return sum(v_i * w_i\n",
    "              for v_i, w_i in zip(v,w))"
   ]
  },
  {
   "cell_type": "code",
   "execution_count": 15,
   "metadata": {},
   "outputs": [],
   "source": [
    "def sum_of_squares(v):\n",
    "    \"\"\"v_1 * v_1 + ... + v_n * v*b \"\"\"\n",
    "    return dot(v, v)"
   ]
  },
  {
   "cell_type": "code",
   "execution_count": 16,
   "metadata": {},
   "outputs": [],
   "source": [
    "import math\n",
    "\n",
    "def magnitude(v):\n",
    "    return math.sqrt(sum_of_squares(v))"
   ]
  },
  {
   "cell_type": "code",
   "execution_count": 17,
   "metadata": {},
   "outputs": [],
   "source": [
    "def squared_distance(v, w):\n",
    "    \"\"\"(v_1 - w_1) ** 2 + ... + (v_n - w_n) **2\"\"\"\n",
    "    return sum_of_squares(vector_substract(v, w))\n",
    "\n",
    "def distance(v, w):\n",
    "    return magnitude(vector_substract(v, w))"
   ]
  }
 ],
 "metadata": {
  "kernelspec": {
   "display_name": "Python 3",
   "language": "python",
   "name": "python3"
  },
  "language_info": {
   "codemirror_mode": {
    "name": "ipython",
    "version": 3
   },
   "file_extension": ".py",
   "mimetype": "text/x-python",
   "name": "python",
   "nbconvert_exporter": "python",
   "pygments_lexer": "ipython3",
   "version": "3.8.3"
  }
 },
 "nbformat": 4,
 "nbformat_minor": 4
}
